{
 "cells": [
  {
   "cell_type": "markdown",
   "id": "f945e868",
   "metadata": {},
   "source": [
    "# Тестовое задание в компанию Адвентум\n",
    "подготовил: [Вова Сизов](mailto:vladimirsizov@yandex.ru)\n",
    "\n",
    "<hr>"
   ]
  },
  {
   "cell_type": "markdown",
   "id": "d9737d66",
   "metadata": {},
   "source": [
    "Тестовое задание:\n",
    "Возьмите свою страницу Вконтакте, соберите по ней таблицу с датой постов и количеством лайков и напишите SQL-запросы, которые позволят ответить на вопрос: что больше всего влияет на количество лайков: время суток публикации, день недели или промежуток между постами.\n",
    "\n",
    "В качестве ответа приложите таблицу в формате CSV, SQL-запросы с необходимыми пояснениями и выводом. Вместо своей страницы можно взять станицу друга, в любом случае укажите адрес страницы."
   ]
  },
  {
   "cell_type": "markdown",
   "id": "370f9159",
   "metadata": {},
   "source": [
    "<hr>\n",
    "\n",
    "Для начала соберём данные из vk.com  \n",
    "Так как у меня не достаточно лайков для сравнения я вопользовался страницей друга [András Arató](https://vk.com/painharold) \"Гарольда скрывающего боль\""
   ]
  },
  {
   "cell_type": "code",
   "execution_count": 1,
   "id": "07220347",
   "metadata": {
    "scrolled": true
   },
   "outputs": [],
   "source": [
    "import pandas as pd\n",
    "import datetime\n",
    "import vk_api"
   ]
  },
  {
   "cell_type": "code",
   "execution_count": 2,
   "id": "7938f8d1",
   "metadata": {},
   "outputs": [],
   "source": [
    "# token\n",
    "access_token='vk1.a.ikaciQ-LymzbiSsBOpJKkQ7SuBNb5O4rnZdk29bJ6Ow9tsZHw-iW_SlKWoITr7z6GCiHeE_Oqw5Aej9r5RfEqxXoq8ig'"
   ]
  },
  {
   "cell_type": "code",
   "execution_count": 3,
   "id": "46569a25",
   "metadata": {},
   "outputs": [],
   "source": [
    "# создаём подключение\n",
    "vk_session = vk_api.VkApi(token=access_token)\n",
    "vk = vk_session.get_api()"
   ]
  },
  {
   "cell_type": "code",
   "execution_count": 4,
   "id": "c8d49346",
   "metadata": {},
   "outputs": [],
   "source": [
    "# https://dev.vk.com/ru/method/wall.get\n",
    "result = vk.wall.get(domain='painharold', count=100)"
   ]
  },
  {
   "cell_type": "markdown",
   "id": "d4eac1d8",
   "metadata": {},
   "source": [
    "Получаем датафрейм с датами публикаций на стене профиля и количеством лайков под постами"
   ]
  },
  {
   "cell_type": "code",
   "execution_count": 5,
   "id": "ffc7f7fe",
   "metadata": {
    "scrolled": false
   },
   "outputs": [
    {
     "data": {
      "text/html": [
       "<div>\n",
       "<style scoped>\n",
       "    .dataframe tbody tr th:only-of-type {\n",
       "        vertical-align: middle;\n",
       "    }\n",
       "\n",
       "    .dataframe tbody tr th {\n",
       "        vertical-align: top;\n",
       "    }\n",
       "\n",
       "    .dataframe thead th {\n",
       "        text-align: right;\n",
       "    }\n",
       "</style>\n",
       "<table border=\"1\" class=\"dataframe\">\n",
       "  <thead>\n",
       "    <tr style=\"text-align: right;\">\n",
       "      <th></th>\n",
       "      <th>date</th>\n",
       "      <th>likes</th>\n",
       "    </tr>\n",
       "  </thead>\n",
       "  <tbody>\n",
       "    <tr>\n",
       "      <th>0</th>\n",
       "      <td>2023-07-19 14:23:43</td>\n",
       "      <td>665</td>\n",
       "    </tr>\n",
       "    <tr>\n",
       "      <th>1</th>\n",
       "      <td>2023-05-11 10:59:55</td>\n",
       "      <td>635</td>\n",
       "    </tr>\n",
       "    <tr>\n",
       "      <th>2</th>\n",
       "      <td>2023-05-05 21:33:38</td>\n",
       "      <td>0</td>\n",
       "    </tr>\n",
       "    <tr>\n",
       "      <th>3</th>\n",
       "      <td>2023-04-23 07:21:35</td>\n",
       "      <td>610</td>\n",
       "    </tr>\n",
       "    <tr>\n",
       "      <th>4</th>\n",
       "      <td>2023-04-10 12:54:26</td>\n",
       "      <td>133</td>\n",
       "    </tr>\n",
       "    <tr>\n",
       "      <th>...</th>\n",
       "      <td>...</td>\n",
       "      <td>...</td>\n",
       "    </tr>\n",
       "    <tr>\n",
       "      <th>95</th>\n",
       "      <td>2021-02-24 15:35:00</td>\n",
       "      <td>93</td>\n",
       "    </tr>\n",
       "    <tr>\n",
       "      <th>96</th>\n",
       "      <td>2021-02-23 16:55:00</td>\n",
       "      <td>205</td>\n",
       "    </tr>\n",
       "    <tr>\n",
       "      <th>97</th>\n",
       "      <td>2021-02-22 13:45:00</td>\n",
       "      <td>389</td>\n",
       "    </tr>\n",
       "    <tr>\n",
       "      <th>98</th>\n",
       "      <td>2021-02-18 13:35:23</td>\n",
       "      <td>0</td>\n",
       "    </tr>\n",
       "    <tr>\n",
       "      <th>99</th>\n",
       "      <td>2021-02-12 08:30:00</td>\n",
       "      <td>332</td>\n",
       "    </tr>\n",
       "  </tbody>\n",
       "</table>\n",
       "<p>100 rows × 2 columns</p>\n",
       "</div>"
      ],
      "text/plain": [
       "                  date  likes\n",
       "0  2023-07-19 14:23:43    665\n",
       "1  2023-05-11 10:59:55    635\n",
       "2  2023-05-05 21:33:38      0\n",
       "3  2023-04-23 07:21:35    610\n",
       "4  2023-04-10 12:54:26    133\n",
       "..                 ...    ...\n",
       "95 2021-02-24 15:35:00     93\n",
       "96 2021-02-23 16:55:00    205\n",
       "97 2021-02-22 13:45:00    389\n",
       "98 2021-02-18 13:35:23      0\n",
       "99 2021-02-12 08:30:00    332\n",
       "\n",
       "[100 rows x 2 columns]"
      ]
     },
     "execution_count": 5,
     "metadata": {},
     "output_type": "execute_result"
    }
   ],
   "source": [
    "data = []\n",
    "for publish in result['items']:\n",
    "    date = datetime.datetime.utcfromtimestamp(publish['date'])\n",
    "    likes = publish['likes']['count']\n",
    "    data.append([date, likes])\n",
    "\n",
    "data_result = pd.DataFrame(data=data, columns=['date', 'likes'])\n",
    "data_result"
   ]
  },
  {
   "cell_type": "code",
   "execution_count": 6,
   "id": "5f9ce5ea",
   "metadata": {},
   "outputs": [],
   "source": [
    "# запишем результат в файл CSV\n",
    "data_result.to_csv('vladimir_sizov_test.csv', index=False)"
   ]
  },
  {
   "cell_type": "markdown",
   "id": "504477a1",
   "metadata": {},
   "source": [
    "<hr>\n",
    "\n",
    "Мы воспользуемся сервисом https://sqliteonline.com/ где мы можем создать таблицы в PostgreSQL и cформировать к ним SQL запросы.   \n",
    "Создадим таблицу:"
   ]
  },
  {
   "cell_type": "code",
   "execution_count": null,
   "id": "426ee15b",
   "metadata": {},
   "outputs": [],
   "source": [
    "CREATE TABLE IF NOT EXISTS posts (\n",
    "    id SERIAL PRIMARY KEY, \n",
    "    date TIMESTAMP,\n",
    "    likes INTEGER\n",
    "    );"
   ]
  },
  {
   "cell_type": "markdown",
   "id": "d46ad051",
   "metadata": {},
   "source": [
    "Наполним таблицу этими данными:"
   ]
  },
  {
   "cell_type": "code",
   "execution_count": 8,
   "id": "9707c749",
   "metadata": {
    "scrolled": false
   },
   "outputs": [
    {
     "name": "stdout",
     "output_type": "stream",
     "text": [
      "INSERT INTO posts(date, likes) VALUES\n",
      "('2023-07-19 14:23:43', 665) ,\n",
      "('2023-05-11 10:59:55', 635) ,\n",
      "('2023-05-05 21:33:38', 0) ,\n",
      "('2023-04-23 07:21:35', 610) ,\n",
      "('2023-04-10 12:54:26', 133) ,\n",
      "('2023-04-04 12:49:19', 690) ,\n",
      "('2023-04-02 20:56:48', 402) ,\n",
      "('2023-02-15 20:44:44', 1060) ,\n",
      "('2023-01-24 20:16:42', 678) ,\n",
      "('2023-01-10 20:44:10', 0) ,\n",
      "('2022-12-31 21:01:53', 1025) ,\n",
      "('2022-12-05 21:50:26', 876) ,\n",
      "('2022-11-30 19:22:45', 421) ,\n",
      "('2022-11-20 22:18:07', 1139) ,\n",
      "('2022-11-08 17:17:11', 297) ,\n",
      "('2022-10-27 21:37:15', 1116) ,\n",
      "('2022-10-11 09:07:39', 0) ,\n",
      "('2022-09-19 21:35:58', 386) ,\n",
      "('2022-09-19 21:22:52', 1467) ,\n",
      "('2022-09-12 10:25:12', 707) ,\n",
      "('2022-08-08 11:04:50', 952) ,\n",
      "('2022-06-28 10:37:44', 0) ,\n",
      "('2022-06-23 20:56:42', 1100) ,\n",
      "('2022-06-19 09:54:20', 0) ,\n",
      "('2022-06-04 22:03:33', 1) ,\n",
      "('2022-05-30 17:02:49', 1083) ,\n",
      "('2022-04-25 11:11:47', 362) ,\n",
      "('2022-04-12 03:43:54', 6) ,\n",
      "('2022-03-31 10:32:11', 125) ,\n",
      "('2022-03-30 21:29:31', 1513) ,\n",
      "('2022-03-25 20:25:44', 3) ,\n",
      "('2022-03-23 16:19:01', 1329) ,\n",
      "('2022-03-23 16:16:57', 626) ,\n",
      "('2022-03-23 15:41:24', 386) ,\n",
      "('2022-03-22 09:41:27', 280) ,\n",
      "('2022-03-13 20:27:32', 860) ,\n",
      "('2022-02-14 14:54:52', 3) ,\n",
      "('2022-02-10 17:58:36', 281) ,\n",
      "('2022-01-22 22:25:21', 1483) ,\n",
      "('2022-01-01 21:06:33', 0) ,\n",
      "('2021-12-31 11:40:00', 1075) ,\n",
      "('2021-12-09 10:31:39', 1629) ,\n",
      "('2021-12-07 19:40:29', 660) ,\n",
      "('2021-11-27 13:56:58', 0) ,\n",
      "('2021-11-27 12:28:45', 0) ,\n",
      "('2021-11-26 19:15:43', 2747) ,\n",
      "('2021-11-26 19:09:41', 1039) ,\n",
      "('2021-11-26 19:06:04', 703) ,\n",
      "('2021-10-25 10:05:11', 0) ,\n",
      "('2021-09-10 18:13:30', 1) ,\n",
      "('2021-07-29 15:16:59', 2) ,\n",
      "('2021-06-19 14:20:00', 186) ,\n",
      "('2021-06-17 17:15:00', 323) ,\n",
      "('2021-06-14 17:15:00', 212) ,\n",
      "('2021-06-12 16:45:00', 165) ,\n",
      "('2021-06-10 14:10:00', 232) ,\n",
      "('2021-06-08 16:45:00', 196) ,\n",
      "('2021-06-07 18:57:18', 35) ,\n",
      "('2021-06-06 15:05:00', 255) ,\n",
      "('2021-06-04 17:00:00', 163) ,\n",
      "('2021-06-02 16:00:00', 185) ,\n",
      "('2021-05-29 12:45:00', 207) ,\n",
      "('2021-05-26 18:15:00', 1038) ,\n",
      "('2021-05-24 16:45:00', 536) ,\n",
      "('2021-05-20 15:45:00', 227) ,\n",
      "('2021-05-19 06:03:49', 1) ,\n",
      "('2021-05-17 13:05:00', 258) ,\n",
      "('2021-05-09 08:13:14', 373) ,\n",
      "('2021-05-09 08:09:42', 119) ,\n",
      "('2021-05-03 09:41:32', 24) ,\n",
      "('2021-05-03 09:07:42', 240) ,\n",
      "('2021-05-01 11:39:09', 1767) ,\n",
      "('2021-04-30 09:23:24', 0) ,\n",
      "('2021-04-01 09:24:00', 246) ,\n",
      "('2021-03-31 10:16:00', 183) ,\n",
      "('2021-03-29 17:15:00', 356) ,\n",
      "('2021-03-28 09:39:22', 1) ,\n",
      "('2021-03-28 09:35:00', 248) ,\n",
      "('2021-03-28 04:16:53', 1) ,\n",
      "('2021-03-27 13:35:00', 268) ,\n",
      "('2021-03-25 09:25:00', 270) ,\n",
      "('2021-03-23 15:00:03', 169) ,\n",
      "('2021-03-22 14:35:00', 160) ,\n",
      "('2021-03-21 15:15:00', 335) ,\n",
      "('2021-03-20 12:15:00', 140) ,\n",
      "('2021-03-18 18:35:00', 255) ,\n",
      "('2021-03-18 14:45:00', 122) ,\n",
      "('2021-03-13 13:55:00', 100) ,\n",
      "('2021-03-12 13:01:00', 228) ,\n",
      "('2021-03-11 13:05:00', 239) ,\n",
      "('2021-03-01 09:00:01', 337) ,\n",
      "('2021-02-28 19:00:00', 271) ,\n",
      "('2021-02-27 15:00:01', 184) ,\n",
      "('2021-02-26 08:30:00', 536) ,\n",
      "('2021-02-25 14:15:00', 540) ,\n",
      "('2021-02-24 15:35:00', 93) ,\n",
      "('2021-02-23 16:55:00', 205) ,\n",
      "('2021-02-22 13:45:00', 389) ,\n",
      "('2021-02-18 13:35:23', 0) ,\n",
      "('2021-02-12 08:30:00', 332) ;\n"
     ]
    }
   ],
   "source": [
    "data = []\n",
    "print('INSERT INTO posts(date, likes) VALUES')\n",
    "for publish in range(len(result['items'])):\n",
    "    date = datetime.datetime.utcfromtimestamp(result['items'][publish]['date']).strftime('%Y-%m-%d %H:%M:%S')\n",
    "    likes = result['items'][publish]['likes']['count']\n",
    "    if publish < len(result['items']) - 1:\n",
    "        print((date, likes),',')\n",
    "    else:\n",
    "        print((date, likes),';')"
   ]
  },
  {
   "cell_type": "markdown",
   "id": "c7166477",
   "metadata": {},
   "source": [
    "<hr>\n",
    "\n",
    "Теперь нам важно определиться, что позволят ответить на вопрос: что больше всего влияет на количество лайков: время суток публикации, день недели или промежуток между постами?\n",
    "\n",
    "Мы будем сравнивать стандартное отклонение количества лайков среднего значения при определённой группировке (по дням недели, времени суток, дней между публикациями).  \n",
    "Наибольшее значение стандартного отклонения покажет максимальное различие в количестве лайков его мы будем принимать как влияние."
   ]
  },
  {
   "cell_type": "code",
   "execution_count": null,
   "id": "8edcc30c",
   "metadata": {},
   "outputs": [],
   "source": [
    "-- разница по времени суток(часы) показала значение 322\n",
    "\n",
    "SELECT\n",
    "    STDDEV(avg_likes)\n",
    "FROM (\n",
    "    SELECT\n",
    "        AVG(likes) AS avg_likes,\n",
    "        DATE_PART('hour', date) AS hour\n",
    "    FROM posts\n",
    "    GROUP BY hour\n",
    "    ) AS h"
   ]
  },
  {
   "cell_type": "code",
   "execution_count": null,
   "id": "82e63fbf",
   "metadata": {},
   "outputs": [],
   "source": [
    "-- разница по дням недели показала значение 123\n",
    "\n",
    "SELECT\n",
    "    STDDEV(avg_likes)\n",
    "FROM (\n",
    "    SELECT\n",
    "        AVG(likes) AS avg_likes,\n",
    "        DATE_PART('isodow', date) AS day_week\n",
    "    FROM posts\n",
    "    GROUP BY day_week\n",
    "    ) AS w"
   ]
  },
  {
   "cell_type": "code",
   "execution_count": null,
   "id": "a07739bf",
   "metadata": {},
   "outputs": [],
   "source": [
    "-- разница в количестве дней(десять дней шаг) между публикациями 183\n",
    "SELECT\n",
    "    STDDEV(avg_likes)\n",
    "FROM (\n",
    "    SELECT \n",
    "        AVG(likes) AS avg_likes,\n",
    "        day_diff\n",
    "    FROM (\n",
    "        SELECT\n",
    "            likes,\n",
    "            ((DATE_PART('day', date - LAG(date, 1) OVER(ORDER BY date)))/10)::INT AS day_diff\n",
    "        FROM posts\n",
    "    ) as dd\n",
    "    WHERE day_diff IS NOT NULL\n",
    "    GROUP BY day_diff\n",
    "    ) AS d"
   ]
  },
  {
   "cell_type": "code",
   "execution_count": null,
   "id": "4a1d89a7",
   "metadata": {},
   "outputs": [],
   "source": [
    "-- лучшее время публикации 11\n",
    "\n",
    "SELECT\n",
    "    *\n",
    "FROM (\n",
    "    SELECT\n",
    "        AVG(likes) AS avg_likes,\n",
    "        DATE_PART('hour', date) AS hour\n",
    "    FROM posts\n",
    "    GROUP BY hour\n",
    "    ) AS h\n",
    "ORDER BY avg_likes DESC\n",
    "LIMIT 1"
   ]
  },
  {
   "cell_type": "markdown",
   "id": "4c91d269",
   "metadata": {},
   "source": [
    "# Вывод:\n",
    "Наибольшее влияние на количество лайков оказывает время суток публикации, лучшее время 11 часов утра, второе по значимости 19."
   ]
  },
  {
   "cell_type": "code",
   "execution_count": null,
   "id": "c82941ec",
   "metadata": {},
   "outputs": [],
   "source": []
  }
 ],
 "metadata": {
  "kernelspec": {
   "display_name": "Python 3 (ipykernel)",
   "language": "python",
   "name": "python3"
  },
  "language_info": {
   "codemirror_mode": {
    "name": "ipython",
    "version": 3
   },
   "file_extension": ".py",
   "mimetype": "text/x-python",
   "name": "python",
   "nbconvert_exporter": "python",
   "pygments_lexer": "ipython3",
   "version": "3.10.9"
  }
 },
 "nbformat": 4,
 "nbformat_minor": 5
}
