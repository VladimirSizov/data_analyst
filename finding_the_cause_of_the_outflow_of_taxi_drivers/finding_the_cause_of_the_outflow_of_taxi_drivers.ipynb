{
 "cells": [
  {
   "cell_type": "markdown",
   "metadata": {},
   "source": [
    "\n",
    "## Поиск причины оттока водителей такси\n",
    "\n",
    "Есть данные о такси-компании, которая хочет изучить отток водителей и посмотреть, какие есть различия между водителями, которые покидают сервис, и которые остаются.  \n",
    "Нужно сформулировать и протестировать гипотезы, выделить группы водителей, которые наиболее подвержены \"оттоку\".  \n",
    "На основе результатов сделать выводы о том, что можно улучшить в сервисе, чтобы в дальнейшем внести изменения.\n",
    "\n",
    "Вопросы для проверки:\n",
    "1. Проверьте, есть ли различия в размерах оттока клиентов в разных городах\n",
    "2. Есть ли разница в активности в первые 30 дней с момента регистрации между водителями из разных городов?\n",
    "3. Может ли отток быть связан с активностью в первые 30 дней после регистрации?\n",
    "\n",
    "Перед проведением тестов проверьте распределения переменных, а также удовлетворяются ли параметрические условия.  \n",
    "В зависимости от этого выберите правильный метод"
   ]
  },
  {
   "cell_type": "markdown",
   "metadata": {},
   "source": [
    "прочитаем данные и проверим описательные статистики"
   ]
  },
  {
   "cell_type": "code",
   "execution_count": 2,
   "metadata": {},
   "outputs": [],
   "source": [
    "import pandas as pd\n",
    "import numpy as np\n",
    "import scipy.stats as stats\n",
    "import pingouin\n",
    "import pingouin as pg\n",
    "from scipy.stats import chi2_contingency, chi2 \n",
    "#from scipy.stats import chi2_contingency, chi2, mannwhitneyu, shapiro, kruskal\n",
    "#import statsmodels.api as sa \n",
    "import scikit_posthocs as sp\n",
    "\n",
    "import seaborn as sns\n",
    "sns.set(rc={'figure.figsize':(12,6)}, style=\"whitegrid\")"
   ]
  },
  {
   "cell_type": "code",
   "execution_count": 25,
   "metadata": {},
   "outputs": [
    {
     "data": {
      "text/html": [
       "<div>\n",
       "<style scoped>\n",
       "    .dataframe tbody tr th:only-of-type {\n",
       "        vertical-align: middle;\n",
       "    }\n",
       "\n",
       "    .dataframe tbody tr th {\n",
       "        vertical-align: top;\n",
       "    }\n",
       "\n",
       "    .dataframe thead th {\n",
       "        text-align: right;\n",
       "    }\n",
       "</style>\n",
       "<table border=\"1\" class=\"dataframe\">\n",
       "  <thead>\n",
       "    <tr style=\"text-align: right;\">\n",
       "      <th></th>\n",
       "      <th>avg_dist</th>\n",
       "      <th>avg_rating_by_driver</th>\n",
       "      <th>avg_rating_of_driver</th>\n",
       "      <th>avg_surge</th>\n",
       "      <th>city</th>\n",
       "      <th>last_trip_date</th>\n",
       "      <th>phone</th>\n",
       "      <th>signup_date</th>\n",
       "      <th>surge_pct</th>\n",
       "      <th>trips_in_first_30_days</th>\n",
       "      <th>luxury_car_user</th>\n",
       "      <th>weekday_pct</th>\n",
       "    </tr>\n",
       "  </thead>\n",
       "  <tbody>\n",
       "    <tr>\n",
       "      <th>0</th>\n",
       "      <td>3.67</td>\n",
       "      <td>5.0</td>\n",
       "      <td>4.7</td>\n",
       "      <td>1.10</td>\n",
       "      <td>King's Landing</td>\n",
       "      <td>2014-06-17</td>\n",
       "      <td>iPhone</td>\n",
       "      <td>2014-01-25</td>\n",
       "      <td>15.4</td>\n",
       "      <td>4</td>\n",
       "      <td>True</td>\n",
       "      <td>46.2</td>\n",
       "    </tr>\n",
       "    <tr>\n",
       "      <th>1</th>\n",
       "      <td>8.26</td>\n",
       "      <td>5.0</td>\n",
       "      <td>5.0</td>\n",
       "      <td>1.00</td>\n",
       "      <td>Astapor</td>\n",
       "      <td>2014-05-05</td>\n",
       "      <td>Android</td>\n",
       "      <td>2014-01-29</td>\n",
       "      <td>0.0</td>\n",
       "      <td>0</td>\n",
       "      <td>False</td>\n",
       "      <td>50.0</td>\n",
       "    </tr>\n",
       "    <tr>\n",
       "      <th>2</th>\n",
       "      <td>0.77</td>\n",
       "      <td>5.0</td>\n",
       "      <td>4.3</td>\n",
       "      <td>1.00</td>\n",
       "      <td>Astapor</td>\n",
       "      <td>2014-01-07</td>\n",
       "      <td>iPhone</td>\n",
       "      <td>2014-01-06</td>\n",
       "      <td>0.0</td>\n",
       "      <td>3</td>\n",
       "      <td>False</td>\n",
       "      <td>100.0</td>\n",
       "    </tr>\n",
       "    <tr>\n",
       "      <th>3</th>\n",
       "      <td>2.36</td>\n",
       "      <td>4.9</td>\n",
       "      <td>4.6</td>\n",
       "      <td>1.14</td>\n",
       "      <td>King's Landing</td>\n",
       "      <td>2014-06-29</td>\n",
       "      <td>iPhone</td>\n",
       "      <td>2014-01-10</td>\n",
       "      <td>20.0</td>\n",
       "      <td>9</td>\n",
       "      <td>True</td>\n",
       "      <td>80.0</td>\n",
       "    </tr>\n",
       "    <tr>\n",
       "      <th>4</th>\n",
       "      <td>3.13</td>\n",
       "      <td>4.9</td>\n",
       "      <td>4.4</td>\n",
       "      <td>1.19</td>\n",
       "      <td>Winterfell</td>\n",
       "      <td>2014-03-15</td>\n",
       "      <td>Android</td>\n",
       "      <td>2014-01-27</td>\n",
       "      <td>11.8</td>\n",
       "      <td>14</td>\n",
       "      <td>False</td>\n",
       "      <td>82.4</td>\n",
       "    </tr>\n",
       "  </tbody>\n",
       "</table>\n",
       "</div>"
      ],
      "text/plain": [
       "   avg_dist  avg_rating_by_driver  avg_rating_of_driver  avg_surge  \\\n",
       "0      3.67                   5.0                   4.7       1.10   \n",
       "1      8.26                   5.0                   5.0       1.00   \n",
       "2      0.77                   5.0                   4.3       1.00   \n",
       "3      2.36                   4.9                   4.6       1.14   \n",
       "4      3.13                   4.9                   4.4       1.19   \n",
       "\n",
       "             city last_trip_date    phone signup_date  surge_pct  \\\n",
       "0  King's Landing     2014-06-17   iPhone  2014-01-25       15.4   \n",
       "1         Astapor     2014-05-05  Android  2014-01-29        0.0   \n",
       "2         Astapor     2014-01-07   iPhone  2014-01-06        0.0   \n",
       "3  King's Landing     2014-06-29   iPhone  2014-01-10       20.0   \n",
       "4      Winterfell     2014-03-15  Android  2014-01-27       11.8   \n",
       "\n",
       "   trips_in_first_30_days  luxury_car_user  weekday_pct  \n",
       "0                       4             True         46.2  \n",
       "1                       0            False         50.0  \n",
       "2                       3            False        100.0  \n",
       "3                       9             True         80.0  \n",
       "4                      14            False         82.4  "
      ]
     },
     "execution_count": 25,
     "metadata": {},
     "output_type": "execute_result"
    }
   ],
   "source": [
    "df = pd.read_csv('https://stepik.org/media/attachments/lesson/406362/churn.csv', \\\n",
    "                 parse_dates=['last_trip_date', 'signup_date'])\n",
    "df.head()"
   ]
  },
  {
   "cell_type": "markdown",
   "metadata": {},
   "source": [
    "- `avg_dist` – среднее расстояние (в милях) за поездку в первые 30 дней после регистрации\n",
    "- `avg_rating_by_driver` – средняя оценка поездок водителем \n",
    "- `avg_rating_of_driver` – средняя оценка поездок водителя\n",
    "- `avg_surge` – средний множитель всплеска за все поездки этого водителя\n",
    "- `city` – город\n",
    "- `last_trip_date` – дата последней поездки (`YYYYMMDD`)\n",
    "- `phone` – основное устройство, которое использует водитель \n",
    "- `signup_date` – дата регистрации аккаунта (`YYYYMMDD`)\n",
    "- `surge_pct` – процент поездок, совершенных с множителем > 1 \n",
    "- `trips_in_first_30_days` – количество поездок, которые совершил водитель в первые 30 дней после регистрации\n",
    "- `luxury_car_user` – TRUE, если пользователь в первые 30 дней использовал премиум-автомобиль\n",
    "- `weekday_pct` – процент поездок пользователя, совершенных в будние дни"
   ]
  },
  {
   "cell_type": "code",
   "execution_count": 26,
   "metadata": {},
   "outputs": [
    {
     "name": "stdout",
     "output_type": "stream",
     "text": [
      "<class 'pandas.core.frame.DataFrame'>\n",
      "RangeIndex: 50000 entries, 0 to 49999\n",
      "Data columns (total 12 columns):\n",
      " #   Column                  Non-Null Count  Dtype         \n",
      "---  ------                  --------------  -----         \n",
      " 0   avg_dist                50000 non-null  float64       \n",
      " 1   avg_rating_by_driver    49799 non-null  float64       \n",
      " 2   avg_rating_of_driver    41878 non-null  float64       \n",
      " 3   avg_surge               50000 non-null  float64       \n",
      " 4   city                    50000 non-null  object        \n",
      " 5   last_trip_date          50000 non-null  datetime64[ns]\n",
      " 6   phone                   49604 non-null  object        \n",
      " 7   signup_date             50000 non-null  datetime64[ns]\n",
      " 8   surge_pct               50000 non-null  float64       \n",
      " 9   trips_in_first_30_days  50000 non-null  int64         \n",
      " 10  luxury_car_user         50000 non-null  bool          \n",
      " 11  weekday_pct             50000 non-null  float64       \n",
      "dtypes: bool(1), datetime64[ns](2), float64(6), int64(1), object(2)\n",
      "memory usage: 4.2+ MB\n"
     ]
    }
   ],
   "source": [
    "df.info()"
   ]
  },
  {
   "cell_type": "code",
   "execution_count": 27,
   "metadata": {},
   "outputs": [
    {
     "data": {
      "text/plain": [
       "avg_dist                  2908\n",
       "avg_rating_by_driver        27\n",
       "avg_rating_of_driver        37\n",
       "avg_surge                  115\n",
       "city                         3\n",
       "last_trip_date             182\n",
       "phone                        2\n",
       "signup_date                 31\n",
       "surge_pct                  367\n",
       "trips_in_first_30_days      59\n",
       "luxury_car_user              2\n",
       "weekday_pct                666\n",
       "dtype: int64"
      ]
     },
     "execution_count": 27,
     "metadata": {},
     "output_type": "execute_result"
    }
   ],
   "source": [
    "df[df.columns].nunique()"
   ]
  },
  {
   "cell_type": "code",
   "execution_count": 28,
   "metadata": {},
   "outputs": [
    {
     "data": {
      "text/html": [
       "<div>\n",
       "<style scoped>\n",
       "    .dataframe tbody tr th:only-of-type {\n",
       "        vertical-align: middle;\n",
       "    }\n",
       "\n",
       "    .dataframe tbody tr th {\n",
       "        vertical-align: top;\n",
       "    }\n",
       "\n",
       "    .dataframe thead th {\n",
       "        text-align: right;\n",
       "    }\n",
       "</style>\n",
       "<table border=\"1\" class=\"dataframe\">\n",
       "  <thead>\n",
       "    <tr style=\"text-align: right;\">\n",
       "      <th></th>\n",
       "      <th>city</th>\n",
       "      <th>phone</th>\n",
       "    </tr>\n",
       "  </thead>\n",
       "  <tbody>\n",
       "    <tr>\n",
       "      <th>count</th>\n",
       "      <td>50000</td>\n",
       "      <td>49604</td>\n",
       "    </tr>\n",
       "    <tr>\n",
       "      <th>unique</th>\n",
       "      <td>3</td>\n",
       "      <td>2</td>\n",
       "    </tr>\n",
       "    <tr>\n",
       "      <th>top</th>\n",
       "      <td>Winterfell</td>\n",
       "      <td>iPhone</td>\n",
       "    </tr>\n",
       "    <tr>\n",
       "      <th>freq</th>\n",
       "      <td>23336</td>\n",
       "      <td>34582</td>\n",
       "    </tr>\n",
       "  </tbody>\n",
       "</table>\n",
       "</div>"
      ],
      "text/plain": [
       "              city   phone\n",
       "count        50000   49604\n",
       "unique           3       2\n",
       "top     Winterfell  iPhone\n",
       "freq         23336   34582"
      ]
     },
     "execution_count": 28,
     "metadata": {},
     "output_type": "execute_result"
    }
   ],
   "source": [
    "df.describe(include='object')"
   ]
  },
  {
   "cell_type": "code",
   "execution_count": 29,
   "metadata": {
    "scrolled": false
   },
   "outputs": [
    {
     "data": {
      "text/html": [
       "<div>\n",
       "<style scoped>\n",
       "    .dataframe tbody tr th:only-of-type {\n",
       "        vertical-align: middle;\n",
       "    }\n",
       "\n",
       "    .dataframe tbody tr th {\n",
       "        vertical-align: top;\n",
       "    }\n",
       "\n",
       "    .dataframe thead th {\n",
       "        text-align: right;\n",
       "    }\n",
       "</style>\n",
       "<table border=\"1\" class=\"dataframe\">\n",
       "  <thead>\n",
       "    <tr style=\"text-align: right;\">\n",
       "      <th></th>\n",
       "      <th>avg_dist</th>\n",
       "      <th>avg_rating_by_driver</th>\n",
       "      <th>avg_rating_of_driver</th>\n",
       "      <th>avg_surge</th>\n",
       "      <th>last_trip_date</th>\n",
       "      <th>signup_date</th>\n",
       "      <th>surge_pct</th>\n",
       "      <th>trips_in_first_30_days</th>\n",
       "      <th>weekday_pct</th>\n",
       "    </tr>\n",
       "  </thead>\n",
       "  <tbody>\n",
       "    <tr>\n",
       "      <th>count</th>\n",
       "      <td>50000.000000</td>\n",
       "      <td>49799.000000</td>\n",
       "      <td>41878.000000</td>\n",
       "      <td>50000.000000</td>\n",
       "      <td>50000</td>\n",
       "      <td>50000</td>\n",
       "      <td>50000.000000</td>\n",
       "      <td>50000.000000</td>\n",
       "      <td>50000.000000</td>\n",
       "    </tr>\n",
       "    <tr>\n",
       "      <th>mean</th>\n",
       "      <td>5.796827</td>\n",
       "      <td>4.778158</td>\n",
       "      <td>4.601559</td>\n",
       "      <td>1.074764</td>\n",
       "      <td>2014-04-19 08:02:04.992000256</td>\n",
       "      <td>2014-01-16 13:04:20.352000</td>\n",
       "      <td>8.849536</td>\n",
       "      <td>2.278200</td>\n",
       "      <td>60.926084</td>\n",
       "    </tr>\n",
       "    <tr>\n",
       "      <th>min</th>\n",
       "      <td>0.000000</td>\n",
       "      <td>1.000000</td>\n",
       "      <td>1.000000</td>\n",
       "      <td>1.000000</td>\n",
       "      <td>2014-01-01 00:00:00</td>\n",
       "      <td>2014-01-01 00:00:00</td>\n",
       "      <td>0.000000</td>\n",
       "      <td>0.000000</td>\n",
       "      <td>0.000000</td>\n",
       "    </tr>\n",
       "    <tr>\n",
       "      <th>25%</th>\n",
       "      <td>2.420000</td>\n",
       "      <td>4.700000</td>\n",
       "      <td>4.300000</td>\n",
       "      <td>1.000000</td>\n",
       "      <td>2014-02-14 00:00:00</td>\n",
       "      <td>2014-01-09 00:00:00</td>\n",
       "      <td>0.000000</td>\n",
       "      <td>0.000000</td>\n",
       "      <td>33.300000</td>\n",
       "    </tr>\n",
       "    <tr>\n",
       "      <th>50%</th>\n",
       "      <td>3.880000</td>\n",
       "      <td>5.000000</td>\n",
       "      <td>4.900000</td>\n",
       "      <td>1.000000</td>\n",
       "      <td>2014-05-08 00:00:00</td>\n",
       "      <td>2014-01-17 00:00:00</td>\n",
       "      <td>0.000000</td>\n",
       "      <td>1.000000</td>\n",
       "      <td>66.700000</td>\n",
       "    </tr>\n",
       "    <tr>\n",
       "      <th>75%</th>\n",
       "      <td>6.940000</td>\n",
       "      <td>5.000000</td>\n",
       "      <td>5.000000</td>\n",
       "      <td>1.050000</td>\n",
       "      <td>2014-06-18 00:00:00</td>\n",
       "      <td>2014-01-24 00:00:00</td>\n",
       "      <td>8.600000</td>\n",
       "      <td>3.000000</td>\n",
       "      <td>100.000000</td>\n",
       "    </tr>\n",
       "    <tr>\n",
       "      <th>max</th>\n",
       "      <td>160.960000</td>\n",
       "      <td>5.000000</td>\n",
       "      <td>5.000000</td>\n",
       "      <td>8.000000</td>\n",
       "      <td>2014-07-01 00:00:00</td>\n",
       "      <td>2014-01-31 00:00:00</td>\n",
       "      <td>100.000000</td>\n",
       "      <td>125.000000</td>\n",
       "      <td>100.000000</td>\n",
       "    </tr>\n",
       "    <tr>\n",
       "      <th>std</th>\n",
       "      <td>5.707357</td>\n",
       "      <td>0.446652</td>\n",
       "      <td>0.617338</td>\n",
       "      <td>0.222336</td>\n",
       "      <td>NaN</td>\n",
       "      <td>NaN</td>\n",
       "      <td>19.958811</td>\n",
       "      <td>3.792684</td>\n",
       "      <td>37.081503</td>\n",
       "    </tr>\n",
       "  </tbody>\n",
       "</table>\n",
       "</div>"
      ],
      "text/plain": [
       "           avg_dist  avg_rating_by_driver  avg_rating_of_driver     avg_surge  \\\n",
       "count  50000.000000          49799.000000          41878.000000  50000.000000   \n",
       "mean       5.796827              4.778158              4.601559      1.074764   \n",
       "min        0.000000              1.000000              1.000000      1.000000   \n",
       "25%        2.420000              4.700000              4.300000      1.000000   \n",
       "50%        3.880000              5.000000              4.900000      1.000000   \n",
       "75%        6.940000              5.000000              5.000000      1.050000   \n",
       "max      160.960000              5.000000              5.000000      8.000000   \n",
       "std        5.707357              0.446652              0.617338      0.222336   \n",
       "\n",
       "                      last_trip_date                 signup_date  \\\n",
       "count                          50000                       50000   \n",
       "mean   2014-04-19 08:02:04.992000256  2014-01-16 13:04:20.352000   \n",
       "min              2014-01-01 00:00:00         2014-01-01 00:00:00   \n",
       "25%              2014-02-14 00:00:00         2014-01-09 00:00:00   \n",
       "50%              2014-05-08 00:00:00         2014-01-17 00:00:00   \n",
       "75%              2014-06-18 00:00:00         2014-01-24 00:00:00   \n",
       "max              2014-07-01 00:00:00         2014-01-31 00:00:00   \n",
       "std                              NaN                         NaN   \n",
       "\n",
       "          surge_pct  trips_in_first_30_days   weekday_pct  \n",
       "count  50000.000000            50000.000000  50000.000000  \n",
       "mean       8.849536                2.278200     60.926084  \n",
       "min        0.000000                0.000000      0.000000  \n",
       "25%        0.000000                0.000000     33.300000  \n",
       "50%        0.000000                1.000000     66.700000  \n",
       "75%        8.600000                3.000000    100.000000  \n",
       "max      100.000000              125.000000    100.000000  \n",
       "std       19.958811                3.792684     37.081503  "
      ]
     },
     "execution_count": 29,
     "metadata": {},
     "output_type": "execute_result"
    }
   ],
   "source": [
    "df.describe(datetime_is_numeric=True)"
   ]
  },
  {
   "cell_type": "markdown",
   "metadata": {},
   "source": [
    "## 2\n",
    "Проверьте, есть ли различия в размерах оттока клиентов в разных городах (churn, city)"
   ]
  },
  {
   "cell_type": "markdown",
   "metadata": {},
   "source": [
    "создаём столбец с разницей количества дней даты поездки и последнего дня в данных"
   ]
  },
  {
   "cell_type": "code",
   "execution_count": 30,
   "metadata": {
    "scrolled": true
   },
   "outputs": [
    {
     "data": {
      "text/plain": [
       "0         14\n",
       "1         57\n",
       "2        175\n",
       "3          2\n",
       "4        108\n",
       "        ... \n",
       "49995     26\n",
       "49996    157\n",
       "49997     40\n",
       "49998    167\n",
       "49999     72\n",
       "Name: days_since_last_trip, Length: 50000, dtype: int64"
      ]
     },
     "execution_count": 30,
     "metadata": {},
     "output_type": "execute_result"
    }
   ],
   "source": [
    "df['days_since_last_trip'] = (df.last_trip_date.max() - df.last_trip_date).dt.days\n",
    "df['days_since_last_trip']"
   ]
  },
  {
   "cell_type": "markdown",
   "metadata": {},
   "source": [
    "Посмотрим на распределение количества дней с последней поездки"
   ]
  },
  {
   "cell_type": "code",
   "execution_count": 31,
   "metadata": {},
   "outputs": [
    {
     "data": {
      "image/png": "[encoded data removed]",
      "text/plain": [
       "<Figure size 1152x360 with 1 Axes>"
      ]
     },
     "metadata": {},
     "output_type": "display_data"
    }
   ],
   "source": [
    "sns.displot(data=df, x='days_since_last_trip', aspect=16/5, bins=90)\n",
    "sns.despine()"
   ]
  },
  {
   "cell_type": "markdown",
   "metadata": {},
   "source": [
    "Определим временной лаг в 30 дней в качестве значения оттока.\n",
    "Создадим колонку с категориальным значением 'churn'/'not_churn' определяющим поездку, совершенную раньше допустимого значения"
   ]
  },
  {
   "cell_type": "markdown",
   "metadata": {},
   "source": [
    "Примечание:  \n",
    "Предполагается более корректным определением временного лага вероятности оттока водителя - получение разницы в днях между последней и предпоследней поездкой у водителей которые покидали платформу ранее.  \n",
    "Или определение макимального времени перерывов в днях 95% постоянно работающих водителей.  \n",
    "Это возможно было-бы провернуть при наличии данных id водителей и его последних двух поездках"
   ]
  },
  {
   "cell_type": "code",
   "execution_count": 33,
   "metadata": {
    "scrolled": true
   },
   "outputs": [
    {
     "data": {
      "text/html": [
       "<div>\n",
       "<style scoped>\n",
       "    .dataframe tbody tr th:only-of-type {\n",
       "        vertical-align: middle;\n",
       "    }\n",
       "\n",
       "    .dataframe tbody tr th {\n",
       "        vertical-align: top;\n",
       "    }\n",
       "\n",
       "    .dataframe thead th {\n",
       "        text-align: right;\n",
       "    }\n",
       "</style>\n",
       "<table border=\"1\" class=\"dataframe\">\n",
       "  <thead>\n",
       "    <tr style=\"text-align: right;\">\n",
       "      <th></th>\n",
       "      <th>avg_dist</th>\n",
       "      <th>avg_rating_by_driver</th>\n",
       "      <th>avg_rating_of_driver</th>\n",
       "      <th>avg_surge</th>\n",
       "      <th>city</th>\n",
       "      <th>last_trip_date</th>\n",
       "      <th>phone</th>\n",
       "      <th>signup_date</th>\n",
       "      <th>surge_pct</th>\n",
       "      <th>trips_in_first_30_days</th>\n",
       "      <th>luxury_car_user</th>\n",
       "      <th>weekday_pct</th>\n",
       "      <th>days_since_last_trip</th>\n",
       "      <th>churn</th>\n",
       "    </tr>\n",
       "  </thead>\n",
       "  <tbody>\n",
       "    <tr>\n",
       "      <th>0</th>\n",
       "      <td>3.67</td>\n",
       "      <td>5.0</td>\n",
       "      <td>4.7</td>\n",
       "      <td>1.10</td>\n",
       "      <td>King's Landing</td>\n",
       "      <td>2014-06-17</td>\n",
       "      <td>iPhone</td>\n",
       "      <td>2014-01-25</td>\n",
       "      <td>15.4</td>\n",
       "      <td>4</td>\n",
       "      <td>True</td>\n",
       "      <td>46.2</td>\n",
       "      <td>14</td>\n",
       "      <td>not_churn</td>\n",
       "    </tr>\n",
       "    <tr>\n",
       "      <th>1</th>\n",
       "      <td>8.26</td>\n",
       "      <td>5.0</td>\n",
       "      <td>5.0</td>\n",
       "      <td>1.00</td>\n",
       "      <td>Astapor</td>\n",
       "      <td>2014-05-05</td>\n",
       "      <td>Android</td>\n",
       "      <td>2014-01-29</td>\n",
       "      <td>0.0</td>\n",
       "      <td>0</td>\n",
       "      <td>False</td>\n",
       "      <td>50.0</td>\n",
       "      <td>57</td>\n",
       "      <td>churn</td>\n",
       "    </tr>\n",
       "    <tr>\n",
       "      <th>2</th>\n",
       "      <td>0.77</td>\n",
       "      <td>5.0</td>\n",
       "      <td>4.3</td>\n",
       "      <td>1.00</td>\n",
       "      <td>Astapor</td>\n",
       "      <td>2014-01-07</td>\n",
       "      <td>iPhone</td>\n",
       "      <td>2014-01-06</td>\n",
       "      <td>0.0</td>\n",
       "      <td>3</td>\n",
       "      <td>False</td>\n",
       "      <td>100.0</td>\n",
       "      <td>175</td>\n",
       "      <td>churn</td>\n",
       "    </tr>\n",
       "    <tr>\n",
       "      <th>3</th>\n",
       "      <td>2.36</td>\n",
       "      <td>4.9</td>\n",
       "      <td>4.6</td>\n",
       "      <td>1.14</td>\n",
       "      <td>King's Landing</td>\n",
       "      <td>2014-06-29</td>\n",
       "      <td>iPhone</td>\n",
       "      <td>2014-01-10</td>\n",
       "      <td>20.0</td>\n",
       "      <td>9</td>\n",
       "      <td>True</td>\n",
       "      <td>80.0</td>\n",
       "      <td>2</td>\n",
       "      <td>not_churn</td>\n",
       "    </tr>\n",
       "    <tr>\n",
       "      <th>4</th>\n",
       "      <td>3.13</td>\n",
       "      <td>4.9</td>\n",
       "      <td>4.4</td>\n",
       "      <td>1.19</td>\n",
       "      <td>Winterfell</td>\n",
       "      <td>2014-03-15</td>\n",
       "      <td>Android</td>\n",
       "      <td>2014-01-27</td>\n",
       "      <td>11.8</td>\n",
       "      <td>14</td>\n",
       "      <td>False</td>\n",
       "      <td>82.4</td>\n",
       "      <td>108</td>\n",
       "      <td>churn</td>\n",
       "    </tr>\n",
       "  </tbody>\n",
       "</table>\n",
       "</div>"
      ],
      "text/plain": [
       "   avg_dist  avg_rating_by_driver  avg_rating_of_driver  avg_surge  \\\n",
       "0      3.67                   5.0                   4.7       1.10   \n",
       "1      8.26                   5.0                   5.0       1.00   \n",
       "2      0.77                   5.0                   4.3       1.00   \n",
       "3      2.36                   4.9                   4.6       1.14   \n",
       "4      3.13                   4.9                   4.4       1.19   \n",
       "\n",
       "             city last_trip_date    phone signup_date  surge_pct  \\\n",
       "0  King's Landing     2014-06-17   iPhone  2014-01-25       15.4   \n",
       "1         Astapor     2014-05-05  Android  2014-01-29        0.0   \n",
       "2         Astapor     2014-01-07   iPhone  2014-01-06        0.0   \n",
       "3  King's Landing     2014-06-29   iPhone  2014-01-10       20.0   \n",
       "4      Winterfell     2014-03-15  Android  2014-01-27       11.8   \n",
       "\n",
       "   trips_in_first_30_days  luxury_car_user  weekday_pct  days_since_last_trip  \\\n",
       "0                       4             True         46.2                    14   \n",
       "1                       0            False         50.0                    57   \n",
       "2                       3            False        100.0                   175   \n",
       "3                       9             True         80.0                     2   \n",
       "4                      14            False         82.4                   108   \n",
       "\n",
       "       churn  \n",
       "0  not_churn  \n",
       "1      churn  \n",
       "2      churn  \n",
       "3  not_churn  \n",
       "4      churn  "
      ]
     },
     "execution_count": 33,
     "metadata": {},
     "output_type": "execute_result"
    }
   ],
   "source": [
    "lag = 30 # дней, считается невозвратом\n",
    "df['churn'] = df['days_since_last_trip'].apply(lambda x: 'churn' if x > lag else 'not_churn')\n",
    "df.head()"
   ]
  },
  {
   "cell_type": "markdown",
   "metadata": {},
   "source": [
    "Посмотрим на различия групп 'churn'/'not_churn' относительно колонки city"
   ]
  },
  {
   "cell_type": "code",
   "execution_count": 34,
   "metadata": {},
   "outputs": [
    {
     "data": {
      "image/png": "[encoded data removed]",
      "text/plain": [
       "<Figure size 1272.1x360 with 1 Axes>"
      ]
     },
     "metadata": {},
     "output_type": "display_data"
    }
   ],
   "source": [
    "sns.displot(data=df, x='churn', hue='city', aspect=16/5)\n",
    "sns.despine()"
   ]
  },
  {
   "cell_type": "markdown",
   "metadata": {},
   "source": [
    "Наблюдается некоторая диспропорция"
   ]
  },
  {
   "cell_type": "code",
   "execution_count": 35,
   "metadata": {},
   "outputs": [
    {
     "data": {
      "text/html": [
       "<div>\n",
       "<style scoped>\n",
       "    .dataframe tbody tr th:only-of-type {\n",
       "        vertical-align: middle;\n",
       "    }\n",
       "\n",
       "    .dataframe tbody tr th {\n",
       "        vertical-align: top;\n",
       "    }\n",
       "\n",
       "    .dataframe thead th {\n",
       "        text-align: right;\n",
       "    }\n",
       "</style>\n",
       "<table border=\"1\" class=\"dataframe\">\n",
       "  <thead>\n",
       "    <tr style=\"text-align: right;\">\n",
       "      <th>churn</th>\n",
       "      <th>churn</th>\n",
       "      <th>not_churn</th>\n",
       "    </tr>\n",
       "    <tr>\n",
       "      <th>city</th>\n",
       "      <th></th>\n",
       "      <th></th>\n",
       "    </tr>\n",
       "  </thead>\n",
       "  <tbody>\n",
       "    <tr>\n",
       "      <th>Astapor</th>\n",
       "      <td>12306</td>\n",
       "      <td>4228</td>\n",
       "    </tr>\n",
       "    <tr>\n",
       "      <th>King's Landing</th>\n",
       "      <td>3767</td>\n",
       "      <td>6363</td>\n",
       "    </tr>\n",
       "    <tr>\n",
       "      <th>Winterfell</th>\n",
       "      <td>15123</td>\n",
       "      <td>8213</td>\n",
       "    </tr>\n",
       "  </tbody>\n",
       "</table>\n",
       "</div>"
      ],
      "text/plain": [
       "churn           churn  not_churn\n",
       "city                            \n",
       "Astapor         12306       4228\n",
       "King's Landing   3767       6363\n",
       "Winterfell      15123       8213"
      ]
     },
     "execution_count": 35,
     "metadata": {},
     "output_type": "execute_result"
    }
   ],
   "source": [
    "churn_city = pd.crosstab(df.churn, df.city).T\n",
    "churn_city"
   ]
  },
  {
   "cell_type": "markdown",
   "metadata": {},
   "source": [
    "Так как переменный категориальные, для сравнения будем применять хи-квадрат:"
   ]
  },
  {
   "cell_type": "code",
   "execution_count": 36,
   "metadata": {
    "scrolled": false
   },
   "outputs": [
    {
     "name": "stdout",
     "output_type": "stream",
     "text": [
      "statistics 3821.5510225559633 \n",
      "pvalue 0.0 \n",
      " [[10315.89328  6320.3096  14559.79712]\n",
      " [ 6218.10672  3809.6904   8776.20288]]\n"
     ]
    }
   ],
   "source": [
    "obs = np.array([churn_city.churn, churn_city.not_churn])\n",
    "result = stats.chi2_contingency(obs)\n",
    "print('statistics', result[0],\n",
    "      '\\npvalue', result[1],\n",
    "      '\\n', result[3])"
   ]
  },
  {
   "cell_type": "markdown",
   "metadata": {},
   "source": [
    "pvalue<0.05 отклоняем H0 стат значимые различия  между группами  'churn'/'not_churn' есть\n",
    "\n",
    "Из этого следует что отток зависит от города:  \n",
    "работорговцы (Astapor), и Старки (Winterfell) - показывают сравнительно сильный отток  \n",
    "Столица семи королевств (King's Landing) показывает лучшие результаты.  "
   ]
  },
  {
   "cell_type": "code",
   "execution_count": 48,
   "metadata": {},
   "outputs": [
    {
     "data": {
      "text/plain": [
       "(city           Astapor  King's Landing   Winterfell\n",
       " churn                                              \n",
       " churn      10315.89328       6320.3096  14559.79712\n",
       " not_churn   6218.10672       3809.6904   8776.20288,\n",
       " city       Astapor  King's Landing  Winterfell\n",
       " churn                                         \n",
       " churn        12306            3767       15123\n",
       " not_churn     4228            6363        8213,\n",
       "                  test    lambda         chi2  dof  pval    cramer  power\n",
       " 0             pearson  1.000000  3821.551023  2.0   0.0  0.276462    1.0\n",
       " 1        cressie-read  0.666667  3788.042430  2.0   0.0  0.275247    1.0\n",
       " 2      log-likelihood  0.000000  3767.315031  2.0   0.0  0.274493    1.0\n",
       " 3       freeman-tukey -0.500000  3791.421829  2.0   0.0  0.275370    1.0\n",
       " 4  mod-log-likelihood -1.000000  3849.643594  2.0   0.0  0.277476    1.0\n",
       " 5              neyman -2.000000  4073.406300  2.0   0.0  0.285426    1.0)"
      ]
     },
     "execution_count": 48,
     "metadata": {},
     "output_type": "execute_result"
    }
   ],
   "source": [
    "# через pingouin\n",
    "pg.chi2_independence(df, x='churn', y='city')"
   ]
  },
  {
   "cell_type": "markdown",
   "metadata": {},
   "source": [
    "## 3\n",
    "Есть ли разница в активности в первые 30 дней с момента регистрации между водителями из разных городов?  \n",
    "(city, trips_in_first_30_days)\n",
    "\n",
    "Проверим распределения на нормальность"
   ]
  },
  {
   "cell_type": "code",
   "execution_count": 37,
   "metadata": {
    "scrolled": true
   },
   "outputs": [
    {
     "data": {
      "text/html": [
       "<div>\n",
       "<style scoped>\n",
       "    .dataframe tbody tr th:only-of-type {\n",
       "        vertical-align: middle;\n",
       "    }\n",
       "\n",
       "    .dataframe tbody tr th {\n",
       "        vertical-align: top;\n",
       "    }\n",
       "\n",
       "    .dataframe thead th {\n",
       "        text-align: right;\n",
       "    }\n",
       "</style>\n",
       "<table border=\"1\" class=\"dataframe\">\n",
       "  <thead>\n",
       "    <tr style=\"text-align: right;\">\n",
       "      <th></th>\n",
       "      <th>W</th>\n",
       "      <th>pval</th>\n",
       "      <th>normal</th>\n",
       "    </tr>\n",
       "  </thead>\n",
       "  <tbody>\n",
       "    <tr>\n",
       "      <th>King's Landing</th>\n",
       "      <td>12011.013892</td>\n",
       "      <td>0.0</td>\n",
       "      <td>False</td>\n",
       "    </tr>\n",
       "    <tr>\n",
       "      <th>Astapor</th>\n",
       "      <td>18186.739338</td>\n",
       "      <td>0.0</td>\n",
       "      <td>False</td>\n",
       "    </tr>\n",
       "    <tr>\n",
       "      <th>Winterfell</th>\n",
       "      <td>21390.545655</td>\n",
       "      <td>0.0</td>\n",
       "      <td>False</td>\n",
       "    </tr>\n",
       "  </tbody>\n",
       "</table>\n",
       "</div>"
      ],
      "text/plain": [
       "                           W  pval  normal\n",
       "King's Landing  12011.013892   0.0   False\n",
       "Astapor         18186.739338   0.0   False\n",
       "Winterfell      21390.545655   0.0   False"
      ]
     },
     "execution_count": 37,
     "metadata": {},
     "output_type": "execute_result"
    }
   ],
   "source": [
    "pingouin.normality(data=df, dv='trips_in_first_30_days', group='city', method='normaltest')"
   ]
  },
  {
   "cell_type": "code",
   "execution_count": 38,
   "metadata": {},
   "outputs": [
    {
     "data": {
      "image/png": "[encoded data removed]",
      "text/plain": [
       "<Figure size 1152x360 with 1 Axes>"
      ]
     },
     "metadata": {},
     "output_type": "display_data"
    },
    {
     "data": {
      "image/png": "[encoded data removed]",
      "text/plain": [
       "<Figure size 1152x360 with 1 Axes>"
      ]
     },
     "metadata": {},
     "output_type": "display_data"
    },
    {
     "data": {
      "image/png": "[encoded data removed]",
      "text/plain": [
       "<Figure size 1152x360 with 1 Axes>"
      ]
     },
     "metadata": {},
     "output_type": "display_data"
    }
   ],
   "source": [
    "for city in df.city.unique():\n",
    "    sns.displot(df[df.city == city].trips_in_first_30_days, aspect=16/5).set(title=city)"
   ]
  },
  {
   "cell_type": "markdown",
   "metadata": {},
   "source": [
    "pvalue<0.05 у всех трех городов, графики не имеет форму нормального распределения, также имеются значительные выбросы.  \n",
    "\n",
    "Распределения не являются нормальными, поэтому используем непараметрический аналог ANOVA – критерий Краскела-Уоллиса"
   ]
  },
  {
   "cell_type": "markdown",
   "metadata": {},
   "source": [
    "## 4\n",
    "Есть ли разница в активности в первые 30 дней с момента регистрации между водителями из разных городов?  \n",
    "(city, trips_in_first_30_days)\n",
    "\n",
    "Обнаружены ли статистически значимые различия?"
   ]
  },
  {
   "cell_type": "code",
   "execution_count": 39,
   "metadata": {},
   "outputs": [
    {
     "data": {
      "text/plain": [
       "KruskalResult(statistic=221.32105325317454, pvalue=8.724567791938856e-49)"
      ]
     },
     "execution_count": 39,
     "metadata": {},
     "output_type": "execute_result"
    }
   ],
   "source": [
    "x, y, z = [df[df.city == x].trips_in_first_30_days for x in df.city.unique()]\n",
    "stats.kruskal(x, y, z)"
   ]
  },
  {
   "cell_type": "code",
   "execution_count": 49,
   "metadata": {
    "scrolled": false
   },
   "outputs": [
    {
     "data": {
      "text/html": [
       "<div>\n",
       "<style scoped>\n",
       "    .dataframe tbody tr th:only-of-type {\n",
       "        vertical-align: middle;\n",
       "    }\n",
       "\n",
       "    .dataframe tbody tr th {\n",
       "        vertical-align: top;\n",
       "    }\n",
       "\n",
       "    .dataframe thead th {\n",
       "        text-align: right;\n",
       "    }\n",
       "</style>\n",
       "<table border=\"1\" class=\"dataframe\">\n",
       "  <thead>\n",
       "    <tr style=\"text-align: right;\">\n",
       "      <th></th>\n",
       "      <th>Source</th>\n",
       "      <th>ddof1</th>\n",
       "      <th>H</th>\n",
       "      <th>p-unc</th>\n",
       "    </tr>\n",
       "  </thead>\n",
       "  <tbody>\n",
       "    <tr>\n",
       "      <th>Kruskal</th>\n",
       "      <td>city</td>\n",
       "      <td>2</td>\n",
       "      <td>221.321053</td>\n",
       "      <td>8.724568e-49</td>\n",
       "    </tr>\n",
       "  </tbody>\n",
       "</table>\n",
       "</div>"
      ],
      "text/plain": [
       "        Source  ddof1           H         p-unc\n",
       "Kruskal   city      2  221.321053  8.724568e-49"
      ]
     },
     "execution_count": 49,
     "metadata": {},
     "output_type": "execute_result"
    }
   ],
   "source": [
    "pg.kruskal(df, dv='trips_in_first_30_days', between='city')"
   ]
  },
  {
   "cell_type": "markdown",
   "metadata": {},
   "source": [
    "pvalue<0.05 обнаружены статистически значимые различия"
   ]
  },
  {
   "cell_type": "code",
   "execution_count": 52,
   "metadata": {
    "scrolled": false
   },
   "outputs": [
    {
     "data": {
      "text/html": [
       "<div>\n",
       "<style scoped>\n",
       "    .dataframe tbody tr th:only-of-type {\n",
       "        vertical-align: middle;\n",
       "    }\n",
       "\n",
       "    .dataframe tbody tr th {\n",
       "        vertical-align: top;\n",
       "    }\n",
       "\n",
       "    .dataframe thead th {\n",
       "        text-align: right;\n",
       "    }\n",
       "</style>\n",
       "<table border=\"1\" class=\"dataframe\">\n",
       "  <thead>\n",
       "    <tr style=\"text-align: right;\">\n",
       "      <th></th>\n",
       "      <th>A</th>\n",
       "      <th>B</th>\n",
       "      <th>mean(A)</th>\n",
       "      <th>mean(B)</th>\n",
       "      <th>diff</th>\n",
       "      <th>se</th>\n",
       "      <th>T</th>\n",
       "      <th>df</th>\n",
       "      <th>pval</th>\n",
       "      <th>hedges</th>\n",
       "    </tr>\n",
       "  </thead>\n",
       "  <tbody>\n",
       "    <tr>\n",
       "      <th>0</th>\n",
       "      <td>Astapor</td>\n",
       "      <td>King's Landing</td>\n",
       "      <td>1.948651</td>\n",
       "      <td>2.463672</td>\n",
       "      <td>-0.515021</td>\n",
       "      <td>0.050196</td>\n",
       "      <td>-10.260168</td>\n",
       "      <td>17426.337201</td>\n",
       "      <td>0.001000</td>\n",
       "      <td>-0.129453</td>\n",
       "    </tr>\n",
       "    <tr>\n",
       "      <th>1</th>\n",
       "      <td>Astapor</td>\n",
       "      <td>Winterfell</td>\n",
       "      <td>1.948651</td>\n",
       "      <td>2.431179</td>\n",
       "      <td>-0.482528</td>\n",
       "      <td>0.036089</td>\n",
       "      <td>-13.370534</td>\n",
       "      <td>38248.767769</td>\n",
       "      <td>0.001000</td>\n",
       "      <td>-0.135913</td>\n",
       "    </tr>\n",
       "    <tr>\n",
       "      <th>2</th>\n",
       "      <td>King's Landing</td>\n",
       "      <td>Winterfell</td>\n",
       "      <td>2.463672</td>\n",
       "      <td>2.431179</td>\n",
       "      <td>0.032493</td>\n",
       "      <td>0.049778</td>\n",
       "      <td>0.652762</td>\n",
       "      <td>17342.748103</td>\n",
       "      <td>0.770114</td>\n",
       "      <td>0.007767</td>\n",
       "    </tr>\n",
       "  </tbody>\n",
       "</table>\n",
       "</div>"
      ],
      "text/plain": [
       "                A               B   mean(A)   mean(B)      diff        se  \\\n",
       "0         Astapor  King's Landing  1.948651  2.463672 -0.515021  0.050196   \n",
       "1         Astapor      Winterfell  1.948651  2.431179 -0.482528  0.036089   \n",
       "2  King's Landing      Winterfell  2.463672  2.431179  0.032493  0.049778   \n",
       "\n",
       "           T            df      pval    hedges  \n",
       "0 -10.260168  17426.337201  0.001000 -0.129453  \n",
       "1 -13.370534  38248.767769  0.001000 -0.135913  \n",
       "2   0.652762  17342.748103  0.770114  0.007767  "
      ]
     },
     "execution_count": 52,
     "metadata": {},
     "output_type": "execute_result"
    }
   ],
   "source": [
    "# непараметрический games howell\n",
    "pg.pairwise_gameshowell(data=df, dv='trips_in_first_30_days', between='city')"
   ]
  },
  {
   "cell_type": "code",
   "execution_count": 54,
   "metadata": {
    "scrolled": true
   },
   "outputs": [
    {
     "data": {
      "text/html": [
       "<div>\n",
       "<style scoped>\n",
       "    .dataframe tbody tr th:only-of-type {\n",
       "        vertical-align: middle;\n",
       "    }\n",
       "\n",
       "    .dataframe tbody tr th {\n",
       "        vertical-align: top;\n",
       "    }\n",
       "\n",
       "    .dataframe thead th {\n",
       "        text-align: right;\n",
       "    }\n",
       "</style>\n",
       "<table border=\"1\" class=\"dataframe\">\n",
       "  <thead>\n",
       "    <tr style=\"text-align: right;\">\n",
       "      <th></th>\n",
       "      <th>Astapor</th>\n",
       "      <th>King's Landing</th>\n",
       "      <th>Winterfell</th>\n",
       "    </tr>\n",
       "  </thead>\n",
       "  <tbody>\n",
       "    <tr>\n",
       "      <th>Astapor</th>\n",
       "      <td>1.000000e+00</td>\n",
       "      <td>1.313616e-09</td>\n",
       "      <td>2.448501e-49</td>\n",
       "    </tr>\n",
       "    <tr>\n",
       "      <th>King's Landing</th>\n",
       "      <td>1.313616e-09</td>\n",
       "      <td>1.000000e+00</td>\n",
       "      <td>8.440212e-10</td>\n",
       "    </tr>\n",
       "    <tr>\n",
       "      <th>Winterfell</th>\n",
       "      <td>2.448501e-49</td>\n",
       "      <td>8.440212e-10</td>\n",
       "      <td>1.000000e+00</td>\n",
       "    </tr>\n",
       "  </tbody>\n",
       "</table>\n",
       "</div>"
      ],
      "text/plain": [
       "                     Astapor  King's Landing    Winterfell\n",
       "Astapor         1.000000e+00    1.313616e-09  2.448501e-49\n",
       "King's Landing  1.313616e-09    1.000000e+00  8.440212e-10\n",
       "Winterfell      2.448501e-49    8.440212e-10  1.000000e+00"
      ]
     },
     "execution_count": 54,
     "metadata": {},
     "output_type": "execute_result"
    }
   ],
   "source": [
    "sp.posthoc_dunn(a=df, val_col='trips_in_first_30_days', group_col='city', p_adjust='holm')"
   ]
  },
  {
   "cell_type": "markdown",
   "metadata": {},
   "source": [
    "Holm показал что активность водителей в первые 30 дней статистически различаются между собой данные во всех городах"
   ]
  },
  {
   "cell_type": "markdown",
   "metadata": {},
   "source": [
    "## 5\n",
    "Может ли отток быть связан с активностью в первые 30 дней после регистрации? (churn, trips_in_first_30_days)"
   ]
  },
  {
   "cell_type": "code",
   "execution_count": 40,
   "metadata": {},
   "outputs": [
    {
     "data": {
      "text/html": [
       "<div>\n",
       "<style scoped>\n",
       "    .dataframe tbody tr th:only-of-type {\n",
       "        vertical-align: middle;\n",
       "    }\n",
       "\n",
       "    .dataframe tbody tr th {\n",
       "        vertical-align: top;\n",
       "    }\n",
       "\n",
       "    .dataframe thead th {\n",
       "        text-align: right;\n",
       "    }\n",
       "</style>\n",
       "<table border=\"1\" class=\"dataframe\">\n",
       "  <thead>\n",
       "    <tr style=\"text-align: right;\">\n",
       "      <th></th>\n",
       "      <th>W</th>\n",
       "      <th>pval</th>\n",
       "      <th>normal</th>\n",
       "    </tr>\n",
       "  </thead>\n",
       "  <tbody>\n",
       "    <tr>\n",
       "      <th>not_churn</th>\n",
       "      <td>16960.202341</td>\n",
       "      <td>0.0</td>\n",
       "      <td>False</td>\n",
       "    </tr>\n",
       "    <tr>\n",
       "      <th>churn</th>\n",
       "      <td>36325.245749</td>\n",
       "      <td>0.0</td>\n",
       "      <td>False</td>\n",
       "    </tr>\n",
       "  </tbody>\n",
       "</table>\n",
       "</div>"
      ],
      "text/plain": [
       "                      W  pval  normal\n",
       "not_churn  16960.202341   0.0   False\n",
       "churn      36325.245749   0.0   False"
      ]
     },
     "execution_count": 40,
     "metadata": {},
     "output_type": "execute_result"
    }
   ],
   "source": [
    "pingouin.normality(data=df, dv='trips_in_first_30_days', group='churn', method='normaltest')"
   ]
  },
  {
   "cell_type": "code",
   "execution_count": 41,
   "metadata": {},
   "outputs": [
    {
     "data": {
      "image/png": "[encoded data removed]",
      "text/plain": [
       "<Figure size 1152x360 with 1 Axes>"
      ]
     },
     "metadata": {},
     "output_type": "display_data"
    },
    {
     "data": {
      "image/png": "[encoded data removed]",
      "text/plain": [
       "<Figure size 1152x360 with 1 Axes>"
      ]
     },
     "metadata": {},
     "output_type": "display_data"
    }
   ],
   "source": [
    "for c in df.churn.unique():\n",
    "    sns.displot(df[df.churn == c].trips_in_first_30_days, aspect=16/5).set(title=c)"
   ]
  },
  {
   "cell_type": "code",
   "execution_count": 42,
   "metadata": {
    "scrolled": true
   },
   "outputs": [
    {
     "data": {
      "text/html": [
       "<div>\n",
       "<style scoped>\n",
       "    .dataframe tbody tr th:only-of-type {\n",
       "        vertical-align: middle;\n",
       "    }\n",
       "\n",
       "    .dataframe tbody tr th {\n",
       "        vertical-align: top;\n",
       "    }\n",
       "\n",
       "    .dataframe thead th {\n",
       "        text-align: right;\n",
       "    }\n",
       "</style>\n",
       "<table border=\"1\" class=\"dataframe\">\n",
       "  <thead>\n",
       "    <tr style=\"text-align: right;\">\n",
       "      <th>churn</th>\n",
       "      <th>churn</th>\n",
       "      <th>not_churn</th>\n",
       "    </tr>\n",
       "    <tr>\n",
       "      <th>trips_in_first_30_days</th>\n",
       "      <th></th>\n",
       "      <th></th>\n",
       "    </tr>\n",
       "  </thead>\n",
       "  <tbody>\n",
       "    <tr>\n",
       "      <th>0</th>\n",
       "      <td>9810</td>\n",
       "      <td>5580</td>\n",
       "    </tr>\n",
       "    <tr>\n",
       "      <th>1</th>\n",
       "      <td>10983</td>\n",
       "      <td>3125</td>\n",
       "    </tr>\n",
       "    <tr>\n",
       "      <th>2</th>\n",
       "      <td>4659</td>\n",
       "      <td>2743</td>\n",
       "    </tr>\n",
       "    <tr>\n",
       "      <th>3</th>\n",
       "      <td>2095</td>\n",
       "      <td>1693</td>\n",
       "    </tr>\n",
       "    <tr>\n",
       "      <th>4</th>\n",
       "      <td>1249</td>\n",
       "      <td>1313</td>\n",
       "    </tr>\n",
       "  </tbody>\n",
       "</table>\n",
       "</div>"
      ],
      "text/plain": [
       "churn                   churn  not_churn\n",
       "trips_in_first_30_days                  \n",
       "0                        9810       5580\n",
       "1                       10983       3125\n",
       "2                        4659       2743\n",
       "3                        2095       1693\n",
       "4                        1249       1313"
      ]
     },
     "execution_count": 42,
     "metadata": {},
     "output_type": "execute_result"
    }
   ],
   "source": [
    "churn_30 = pd.crosstab(df.churn, df.trips_in_first_30_days).T\n",
    "churn_30.head()"
   ]
  },
  {
   "cell_type": "markdown",
   "metadata": {},
   "source": [
    "###  хи-квадрат\n",
    "мы не будем применять поскольку у нас не таблица сопряжённости, а нам нужно сравнить средние"
   ]
  },
  {
   "cell_type": "markdown",
   "metadata": {},
   "source": [
    "### Mann-Whitney U test\n",
    "Поскольку распределения у нас не нормальные, а сравниваем два значения"
   ]
  },
  {
   "cell_type": "code",
   "execution_count": 43,
   "metadata": {
    "scrolled": true
   },
   "outputs": [
    {
     "data": {
      "text/plain": [
       "MannwhitneyuResult(statistic=351842132.0, pvalue=0.0)"
      ]
     },
     "execution_count": 43,
     "metadata": {},
     "output_type": "execute_result"
    }
   ],
   "source": [
    "a, b = [df[df.churn == x].trips_in_first_30_days for x in df.churn.unique()]\n",
    "stats.mannwhitneyu(a, b, alternative='two-sided')"
   ]
  },
  {
   "cell_type": "markdown",
   "metadata": {},
   "source": [
    "pvalue<0.05 обнаружены статистически значимые различия"
   ]
  },
  {
   "cell_type": "code",
   "execution_count": 44,
   "metadata": {},
   "outputs": [
    {
     "data": {
      "text/plain": [
       "528.7457627118644"
      ]
     },
     "execution_count": 44,
     "metadata": {},
     "output_type": "execute_result"
    }
   ],
   "source": [
    "churn_30.churn.mean()"
   ]
  },
  {
   "cell_type": "code",
   "execution_count": 45,
   "metadata": {},
   "outputs": [
    {
     "data": {
      "text/plain": [
       "318.7118644067797"
      ]
     },
     "execution_count": 45,
     "metadata": {},
     "output_type": "execute_result"
    }
   ],
   "source": [
    "churn_30.not_churn.mean()"
   ]
  },
  {
   "cell_type": "code",
   "execution_count": 55,
   "metadata": {},
   "outputs": [
    {
     "data": {
      "text/html": [
       "<div>\n",
       "<style scoped>\n",
       "    .dataframe tbody tr th:only-of-type {\n",
       "        vertical-align: middle;\n",
       "    }\n",
       "\n",
       "    .dataframe tbody tr th {\n",
       "        vertical-align: top;\n",
       "    }\n",
       "\n",
       "    .dataframe thead th {\n",
       "        text-align: right;\n",
       "    }\n",
       "</style>\n",
       "<table border=\"1\" class=\"dataframe\">\n",
       "  <thead>\n",
       "    <tr style=\"text-align: right;\">\n",
       "      <th></th>\n",
       "      <th>count</th>\n",
       "      <th>mean</th>\n",
       "      <th>std</th>\n",
       "      <th>min</th>\n",
       "      <th>25%</th>\n",
       "      <th>50%</th>\n",
       "      <th>75%</th>\n",
       "      <th>max</th>\n",
       "    </tr>\n",
       "    <tr>\n",
       "      <th>churn</th>\n",
       "      <th></th>\n",
       "      <th></th>\n",
       "      <th></th>\n",
       "      <th></th>\n",
       "      <th></th>\n",
       "      <th></th>\n",
       "      <th></th>\n",
       "      <th></th>\n",
       "    </tr>\n",
       "  </thead>\n",
       "  <tbody>\n",
       "    <tr>\n",
       "      <th>churn</th>\n",
       "      <td>31196.0</td>\n",
       "      <td>1.658482</td>\n",
       "      <td>2.654222</td>\n",
       "      <td>0.0</td>\n",
       "      <td>0.0</td>\n",
       "      <td>1.0</td>\n",
       "      <td>2.0</td>\n",
       "      <td>73.0</td>\n",
       "    </tr>\n",
       "    <tr>\n",
       "      <th>not_churn</th>\n",
       "      <td>18804.0</td>\n",
       "      <td>3.306318</td>\n",
       "      <td>4.986743</td>\n",
       "      <td>0.0</td>\n",
       "      <td>0.0</td>\n",
       "      <td>2.0</td>\n",
       "      <td>4.0</td>\n",
       "      <td>125.0</td>\n",
       "    </tr>\n",
       "  </tbody>\n",
       "</table>\n",
       "</div>"
      ],
      "text/plain": [
       "             count      mean       std  min  25%  50%  75%    max\n",
       "churn                                                            \n",
       "churn      31196.0  1.658482  2.654222  0.0  0.0  1.0  2.0   73.0\n",
       "not_churn  18804.0  3.306318  4.986743  0.0  0.0  2.0  4.0  125.0"
      ]
     },
     "execution_count": 55,
     "metadata": {},
     "output_type": "execute_result"
    }
   ],
   "source": [
    "df.groupby('churn').trips_in_first_30_days.describe()"
   ]
  },
  {
   "cell_type": "markdown",
   "metadata": {},
   "source": [
    "Распределение переменной trips_in_first_30_days не является нормальным, поэтому для проверки гипотезы я использую U-test Mann Whitney\n",
    "Результат оказался статистически значимым.  \n",
    "Значит, значимые различия есть, ушедшие пользователи были менее активны."
   ]
  }
 ],
 "metadata": {
  "kernelspec": {
   "display_name": "Python 3",
   "language": "python",
   "name": "python3"
  },
  "language_info": {
   "codemirror_mode": {
    "name": "ipython",
    "version": 3
   },
   "file_extension": ".py",
   "mimetype": "text/x-python",
   "name": "python",
   "nbconvert_exporter": "python",
   "pygments_lexer": "ipython3",
   "version": "3.7.3"
  }
 },
 "nbformat": 4,
 "nbformat_minor": 4
}
