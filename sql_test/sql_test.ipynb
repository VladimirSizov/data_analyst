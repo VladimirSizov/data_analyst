{
 "cells": [
  {
   "cell_type": "markdown",
   "id": "b5484963",
   "metadata": {},
   "source": [
    "# Тестовое задание PostgreSQL\n",
    "\n",
    "У вас SQL база с таблицами:  \n",
    "1) users(userid, age)\n",
    "2) purchases (purchaseid, userid, itemid, date)\n",
    "3) items (itemid, price).\n",
    "\n",
    "Будет здорово, если ваше решение оформлено в виде работающего кода и основательно протестировано на придуманных данных.  \n",
    "Для тестирования можно использовать онлайн-редактор https://sqliteonline.com/  \n",
    "Диалект - PostgreSQL \n",
    "\n",
    "Напишите SQL запросы для расчета следующих метрик:\n",
    "А) какую сумму в среднем в месяц тратит:  \n",
    "- пользователи в возрастном диапазоне от 18 до 25 лет включительно  \n",
    "- пользователи в возрастном диапазоне от 26 до 35 лет включительно  \n",
    "Б) в каком месяце года выручка от пользователей в возрастном диапазоне 35+ самая большая  \n",
    "В) какой товар обеспечивает дает наибольший вклад в выручку за последний год  \n",
    "Г) топ-3 товаров по выручке и их доля в общей выручке за любой год  "
   ]
  },
  {
   "cell_type": "markdown",
   "id": "2e5fd020",
   "metadata": {},
   "source": [
    "<hr>\n",
    "Создаём таблицы"
   ]
  },
  {
   "cell_type": "code",
   "execution_count": null,
   "id": "96357911",
   "metadata": {},
   "outputs": [],
   "source": [
    "CREATE TABLE IF NOT EXISTS users (\n",
    "    userid SERIAL PRIMARY KEY, \n",
    "    age INTEGER\n",
    "    );\n",
    "\n",
    "CREATE TABLE IF NOT EXISTS items (\n",
    "    itemid SERIAL PRIMARY KEY,\n",
    "    price INTEGER\n",
    "    );\n",
    "\n",
    "CREATE TABLE IF NOT EXISTS purchases (\n",
    "    purchaseid SERIAL PRIMARY KEY,\n",
    "    userid INTEGER REFERENCES Users(userid),\n",
    "    itemid INTEGER REFERENCES Items(itemid),\n",
    "    date TIMESTAMP NOT NULL\n",
    "    );"
   ]
  },
  {
   "cell_type": "markdown",
   "id": "7499a912",
   "metadata": {},
   "source": [
    "<hr>\n",
    "Добавляем записи в БД"
   ]
  },
  {
   "cell_type": "code",
   "execution_count": null,
   "id": "d3c069bf",
   "metadata": {},
   "outputs": [],
   "source": [
    "INSERT INTO users(age)\n",
    "VALUES\n",
    "    (18),\n",
    "    (25),\n",
    "    (26),\n",
    "    (30),\n",
    "    (35),\n",
    "    (36);\n",
    "\n",
    "INSERT INTO items(price)\n",
    "VALUES\n",
    "    (1),\n",
    "    (3),\n",
    "    (5),\n",
    "    (7);\n",
    "\n",
    "INSERT INTO purchases(userid, itemid, date)\n",
    "VALUES\n",
    "    (3, 1, '2022-11-01'),\n",
    "    (6, 2, '2022-11-03'),\n",
    "    (5, 4, '2022-11-01'),\n",
    "    (2, 3, '2022-11-19'),\n",
    "    (6, 4, '2022-12-01'),\n",
    "    (5, 2, '2022-12-01'),\n",
    "    (2, 3, '2022-12-01'),\n",
    "    (2, 4, '2022-12-02'),\n",
    "    (1, 2, '2022-12-05'),\n",
    "    (2, 4, '2022-12-07'),\n",
    "    (5, 2, '2022-12-09'),\n",
    "    (2, 4, '2022-12-15'),\n",
    "    (1, 1, '2022-12-17'),\n",
    "    (4, 2, '2022-12-21'),\n",
    "    (6, 2, '2022-12-23'),\n",
    "    (2, 2, '2023-01-01'),\n",
    "    (6, 3, '2023-01-02'),\n",
    "    (6, 4, '2023-01-02'),\n",
    "    (3, 4, '2023-01-11'),\n",
    "    (6, 2, '2023-01-13'),\n",
    "    (5, 1, '2022-01-25'),\n",
    "    (4, 3, '2023-01-29');"
   ]
  },
  {
   "cell_type": "markdown",
   "id": "8b58afa5",
   "metadata": {},
   "source": [
    "<hr>\n",
    "\n",
    "А) какую сумму в среднем в месяц тратит:  \n",
    "- пользователи в возрастном диапазоне от 18 до 25 лет включительно  \n",
    "- пользователи в возрастном диапазоне от 26 до 35 лет включительно  "
   ]
  },
  {
   "cell_type": "code",
   "execution_count": null,
   "id": "c15cbf8b",
   "metadata": {},
   "outputs": [],
   "source": [
    "SELECT\n",
    "    DATE_TRUNC('month', pt.date) AS year_month,\n",
    "    ur.age_range,\n",
    "    ROUND(SUM(it.price)::DECIMAL / COUNT(DISTINCT pt.userid), 2) AS mean_sum\n",
    "FROM purchases AS pt\n",
    "\n",
    "LEFT JOIN items AS it\n",
    "    ON it.itemid=pt.itemid\n",
    "    \n",
    "LEFT JOIN (\n",
    "    SELECT\n",
    "        userid,\n",
    "        CASE\n",
    "            when age BETWEEN 18 AND 25 THEN '18-25'\n",
    "            when age BETWEEN 26 AND 35 THEN '26-35'\n",
    "        END AS age_range\n",
    "    FROM users\n",
    ") AS ur\n",
    "    ON pt.userid=ur.userid\n",
    "\n",
    "WHERE age_range IS NOT NULL\n",
    "GROUP BY year_month, age_range\n",
    "ORDER BY year_month, age_range"
   ]
  },
  {
   "cell_type": "markdown",
   "id": "c227afa4",
   "metadata": {},
   "source": [
    "<hr>\n",
    "\n",
    "Б) в каком месяце года выручка от пользователей в возрастном диапазоне 35+ самая большая"
   ]
  },
  {
   "cell_type": "code",
   "execution_count": null,
   "id": "7a1def07",
   "metadata": {},
   "outputs": [],
   "source": [
    "SELECT\n",
    "    DATE_TRUNC('month', pt.date) AS month_range,\n",
    "    SUM(it.price) AS revenue\n",
    "FROM purchases AS pt\n",
    "\n",
    "LEFT JOIN items AS it\n",
    "    ON it.itemid=pt.itemid\n",
    "\n",
    "LEFT JOIN (SELECT userid, age FROM users) AS ut\n",
    "    ON pt.userid=ut.userid\n",
    "\n",
    "WHERE age > 35\n",
    "GROUP BY month_range\n",
    "ORDER BY revenue DESC\n",
    "LIMIT 1"
   ]
  },
  {
   "cell_type": "markdown",
   "id": "f8f17512",
   "metadata": {},
   "source": [
    "<hr>\n",
    "В) какой товар обеспечивает дает наибольший вклад в выручку за последний год"
   ]
  },
  {
   "cell_type": "code",
   "execution_count": null,
   "id": "280101b4",
   "metadata": {},
   "outputs": [],
   "source": [
    "WITH purchases_table AS (SELECT * FROM purchases)\n",
    "\n",
    "SELECT\n",
    "    pt.itemid,\n",
    "    DATE_TRUNC('year', pt.date) AS year_range,\n",
    "    SUM(it.price) AS price\n",
    "FROM purchases_table AS pt\n",
    "\n",
    "LEFT JOIN items AS it\n",
    "\tON it.itemid=pt.itemid\n",
    "\n",
    "WHERE DATE_PART('year', pt.date) = (SELECT MAX(DATE_PART('year', date)) AS date FROM purchases_table)\n",
    "GROUP BY year_range, pt.itemid\n",
    "ORDER BY price DESC\n",
    "LIMIT 1"
   ]
  },
  {
   "cell_type": "markdown",
   "id": "3aa38c22",
   "metadata": {},
   "source": [
    "<hr>\n",
    "Г) топ-3 товаров по выручке и их доля в общей выручке за любой год"
   ]
  },
  {
   "cell_type": "code",
   "execution_count": null,
   "id": "c4b16f68",
   "metadata": {},
   "outputs": [],
   "source": [
    "WITH revenue_table AS (\n",
    "    SELECT\n",
    "        pt.itemid,\n",
    "        DATE_TRUNC('year', pt.date) AS year_range,\n",
    "        it.price AS price\n",
    "    FROM purchases AS pt\n",
    "\n",
    "    LEFT JOIN items AS it\n",
    "        ON it.itemid=pt.itemid\n",
    ")\n",
    "\n",
    "SELECT\n",
    "    itemid,\n",
    "    min(year_range) AS year,\n",
    "    SUM(price) AS revenue\n",
    "FROM revenue_table\n",
    "\n",
    "WHERE year_range < DATE '2023-01-01'\n",
    "GROUP BY itemid\n",
    "ORDER BY revenue DESC\n",
    "LIMIT 3"
   ]
  }
 ],
 "metadata": {
  "kernelspec": {
   "display_name": "Python 3 (ipykernel)",
   "language": "python",
   "name": "python3"
  },
  "language_info": {
   "codemirror_mode": {
    "name": "ipython",
    "version": 3
   },
   "file_extension": ".py",
   "mimetype": "text/x-python",
   "name": "python",
   "nbconvert_exporter": "python",
   "pygments_lexer": "ipython3",
   "version": "3.10.9"
  }
 },
 "nbformat": 4,
 "nbformat_minor": 5
}
